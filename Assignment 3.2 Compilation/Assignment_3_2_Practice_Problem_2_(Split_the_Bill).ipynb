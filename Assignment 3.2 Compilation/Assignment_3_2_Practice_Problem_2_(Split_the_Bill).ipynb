{
  "nbformat": 4,
  "nbformat_minor": 0,
  "metadata": {
    "colab": {
      "provenance": []
    },
    "kernelspec": {
      "name": "python3",
      "display_name": "Python 3"
    },
    "language_info": {
      "name": "python"
    }
  },
  "cells": [
    {
      "cell_type": "markdown",
      "source": [
        "Assignement_3.2_Practice Problem 2 (Split the Bill)"
      ],
      "metadata": {
        "id": "ROecPzLKCsvt"
      }
    },
    {
      "cell_type": "markdown",
      "source": [
        "Code Documentation:"
      ],
      "metadata": {
        "id": "6G3R4qR5CxWB"
      }
    },
    {
      "cell_type": "code",
      "source": [
        "def solve(N, trans_list):\n",
        "\n",
        "    bal = {}  # Dictionary to store balances of individuals\n",
        "\n",
        "    for trans in trans_list: # Iterate over each transaction\n",
        "        for payer, amt in trans['paid_by']: # Update balances for payments made by individuals\n",
        "            bal[payer] = bal.get(payer, 0) + amt\n",
        "        for borrower, amt in trans['split_as']: # Update balances for amounts to be split among individuals\n",
        "            bal[borrower] = bal.get(borrower, 0) - amt\n",
        "\n",
        "    payments = []  # List to store payment details\n",
        "\n",
        "    while True: # Iterate until all debts are settled\n",
        "        borrowers = sorted(filter(lambda x: bal[x] < 0, bal)) # Sort individuals with negative balances (borrowers)\n",
        "        lenders = sorted(filter(lambda x: bal[x] > 0, bal)) # Sort individuals with positive balances (lenders)\n",
        "        if not borrowers or not lenders: # Break loop if no borrowers or lenders left\n",
        "            break\n",
        "        borrower, lender = borrowers[0], lenders[0]  # Select borrower and lender\n",
        "        amt = min(abs(bal[borrower]), bal[lender])  # Determine payment amount\n",
        "        payments.append([lender, borrower, amt])  # Add payment details\n",
        "\n",
        "        bal[borrower] += amt  # Update balances after payment\n",
        "        bal[lender] -= amt\n",
        "\n",
        "    print(len(payments)) # Print the number of payments needed and the details of each payment\n",
        "    for payment in payments:\n",
        "        print(*payment)\n"
      ],
      "metadata": {
        "id": "WX7B5MD6Ct3s"
      },
      "execution_count": null,
      "outputs": []
    },
    {
      "cell_type": "code",
      "source": [
        "def solve(N, trans_list):\n",
        "\n",
        "    bal = {}  # Dictionary to store balances of individuals\n",
        "\n",
        "    for trans in trans_list: # Iterate over each transaction\n",
        "        for payer, amt in trans['paid_by']: # Update balances for payments made by individuals\n",
        "            bal[payer] = bal.get(payer, 0) + amt\n",
        "        for borrower, amt in trans['split_as']: # Update balances for amounts to be split among individuals\n",
        "            bal[borrower] = bal.get(borrower, 0) - amt\n",
        "\n",
        "    payments = []  # List to store payment details\n",
        "\n",
        "    while True: # Iterate until all debts are settled\n",
        "        borrowers = sorted(filter(lambda x: bal[x] < 0, bal)) # Sort individuals with negative balances (borrowers)\n",
        "        lenders = sorted(filter(lambda x: bal[x] > 0, bal)) # Sort individuals with positive balances (lenders)\n",
        "        if not borrowers or not lenders: # Break loop if no borrowers or lenders left\n",
        "            break\n",
        "        borrower, lender = borrowers[0], lenders[0]  # Select borrower and lender\n",
        "        amt = min(abs(bal[borrower]), bal[lender])  # Determine payment amount\n",
        "        payments.append([lender, borrower, amt])  # Add payment details\n",
        "\n",
        "        bal[borrower] += amt  # Update balances after payment\n",
        "        bal[lender] -= amt\n",
        "\n",
        "    print(len(payments)) # Print the number of payments needed and the details of each payment\n",
        "    for payment in payments:\n",
        "        print(*payment)\n"
      ],
      "metadata": {
        "id": "uOANma7nCv_v"
      },
      "execution_count": null,
      "outputs": []
    },
    {
      "cell_type": "markdown",
      "source": [
        "Code Demonstration:\n"
      ],
      "metadata": {
        "id": "y8DkgeMDC0Lh"
      }
    },
    {
      "cell_type": "code",
      "source": [
        "def solve(N, trans_list):\n",
        "    bal = {}\n",
        "\n",
        "    for trans in trans_list:\n",
        "        for payer, amt in trans['paid_by']:\n",
        "            bal[payer] = bal.get(payer, 0) + amt\n",
        "        for borrower, amt in trans['split_as']:\n",
        "            bal[borrower] = bal.get(borrower, 0) - amt\n",
        "\n",
        "    payments = []\n",
        "\n",
        "    while True:\n",
        "        borrowers = sorted(filter(lambda x: bal[x] < 0, bal))\n",
        "        lenders = sorted(filter(lambda x: bal[x] > 0, bal))\n",
        "        if not borrowers or not lenders:\n",
        "            break\n",
        "\n",
        "        borrower, lender = borrowers[0], lenders[0]\n",
        "        amt = min(abs(bal[borrower]), bal[lender])\n",
        "        payments.append([lender, borrower, amt])\n",
        "\n",
        "        bal[borrower] += amt\n",
        "        bal[lender] -= amt\n",
        "\n",
        "    print(len(payments))\n",
        "    for payment in payments:\n",
        "        print(payment[1], payment[0], payment[2])\n"
      ],
      "metadata": {
        "id": "tsGbYOmzC35p"
      },
      "execution_count": null,
      "outputs": []
    },
    {
      "cell_type": "code",
      "source": [
        "print(\"For all data inputs follow this format (1 60) \")\n",
        "print(\"Enter the number of people in the group (n) and the number of transactions recorded (m):\")\n",
        "\n",
        "N, M = map(int, input().split())# Read the number of people and transactions\n",
        "\n",
        "if not (2 <= N <= 2 * 10**5) or not (1 <= M <= 5000): # Check if N and M fall within the specified constraints\n",
        "    print(\"Invalid input for N or M. Please ensure 2 <= N <= 2 * 10^5 and 1 <= M <= 5000.\")\n",
        "    exit()\n",
        "\n",
        "trans_list = []  # List to store transaction details\n",
        "\n",
        "print(\"Enter details for each transaction:\")\n",
        "\n",
        "for i in range(M): # Iterate over each transaction\n",
        "    trans_id = input(\"Enter transaction ID: \").strip()\n",
        "\n",
        "    print(\"Enter the number of payers and the number of splitters for transaction\", i + 1, \":\")\n",
        "    n_pyr, n_spl = map(int, input().split())\n",
        "\n",
        "    if not (1 <= n_pyr + n_spl <= 50): # Check if the sum of payers and splitters falls within the specified constraint\n",
        "        print(\"Invalid input for the number of payers and splitters. Please ensure 1 <= len(paid_by) + len(split_as) <= 50.\")\n",
        "        exit()\n",
        "\n",
        "    paid_by = []   # Store details of individuals who paid\n",
        "    split_as = []  # Store details of amounts to split among individuals\n",
        "\n",
        "    print(\"Enter details for each payer:\") # Iterate over each payer in the transaction\n",
        "    for _ in range(n_pyr):\n",
        "        payer, amt_paid = map(int, input().split())\n",
        "        paid_by.append([payer, amt_paid])\n",
        "\n",
        "    print(\"Enter details for each splitter:\") # Iterate over each splitter in the transaction\n",
        "    for _ in range(n_spl):\n",
        "        splitter, amt_split = map(int, input().split())\n",
        "        split_as.append([splitter, amt_split])\n",
        "\n",
        "    trans_list.append({'transaction_id': trans_id, 'paid_by': paid_by, 'split_as': split_as}) # Append transaction details to the list\n",
        "\n",
        "# Main application\n",
        "solve(N, trans_list)\n"
      ],
      "metadata": {
        "colab": {
          "base_uri": "https://localhost:8080/"
        },
        "id": "AZcgZOAEC6qs",
        "outputId": "726f3291-e8ef-424c-d25d-4abd0fad753b"
      },
      "execution_count": null,
      "outputs": [
        {
          "output_type": "stream",
          "name": "stdout",
          "text": [
            "For all data inputs follow this format (1 60) \n",
            "Enter the number of people in the group (n) and the number of transactions recorded (m):\n",
            "6 5\n",
            "Enter details for each transaction:\n",
            "Enter transaction ID: #itsmylife\n",
            "Enter the number of payers and the number of splitters for transaction 1 :\n",
            "2 3\n",
            "Enter details for each payer:\n",
            "1 25\n",
            "3 15\n",
            "Enter details for each splitter:\n",
            "4 10\n",
            "5 25\n",
            "6 5\n",
            "Enter transaction ID: #itsnow\n",
            "Enter the number of payers and the number of splitters for transaction 2 :\n",
            "1 4\n",
            "Enter details for each payer:\n",
            "4 100\n",
            "Enter details for each splitter:\n",
            "1 25\n",
            "2 25\n",
            "3 25\n",
            "4 25\n",
            "Enter transaction ID: #ornever\n",
            "Enter the number of payers and the number of splitters for transaction 3 :\n",
            "2 2\n",
            "Enter details for each payer:\n",
            "5 30\n",
            "3 10\n",
            "Enter details for each splitter:\n",
            "1 25\n",
            "4 15\n",
            "Enter transaction ID: #iaintgonna\n",
            "Enter the number of payers and the number of splitters for transaction 4 :\n",
            "1 3\n",
            "Enter details for each payer:\n",
            "2 150\n",
            "Enter details for each splitter:\n",
            "1 50\n",
            "2 50\n",
            "3 50\n",
            "Enter transaction ID: #liveforever\n",
            "Enter the number of payers and the number of splitters for transaction 5 :\n",
            "2 2\n",
            "Enter details for each payer:\n",
            "5 13\n",
            "6 25\n",
            "Enter details for each splitter:\n",
            "4 25\n",
            "1 13\n",
            "5\n",
            "1 2 75\n",
            "1 4 13\n",
            "3 4 12\n",
            "3 5 18\n",
            "3 6 20\n"
          ]
        }
      ]
    }
  ]
}