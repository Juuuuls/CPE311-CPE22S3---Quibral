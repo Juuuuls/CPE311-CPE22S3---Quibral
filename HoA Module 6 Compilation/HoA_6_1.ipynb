{
  "nbformat": 4,
  "nbformat_minor": 0,
  "metadata": {
    "colab": {
      "provenance": []
    },
    "kernelspec": {
      "name": "python3",
      "display_name": "Python 3"
    },
    "language_info": {
      "name": "python"
    }
  },
  "cells": [
    {
      "cell_type": "markdown",
      "source": [
        "**Hands-on Activity 6.1 Introduction to Data Analysis and Tools**\n",
        "\n",
        "CPE311 Computational Thinking with Python\n",
        "\n",
        "**Name:** Quibral, Juliann Vincent B.\n",
        "\n",
        "**Section:** CPE22S3\n",
        "\n",
        "**Performed on:** 03/07/2024\n",
        "\n",
        "**Submitted on:** 03/07/2024\n",
        "\n",
        "**Submitted to:** Engr. Roman M. Richard\n"
      ],
      "metadata": {
        "id": "1wbnbfJr8bDu"
      }
    },
    {
      "cell_type": "markdown",
      "source": [
        "# **Excercise 1**"
      ],
      "metadata": {
        "id": "foKj25tQ9NIR"
      }
    },
    {
      "cell_type": "code",
      "source": [
        "import random\n",
        "random.seed(0)\n",
        "salaries = [round(random.random()*1000000, -3) for _ in range(100)]"
      ],
      "metadata": {
        "id": "tFPHWmOX9O6N"
      },
      "execution_count": null,
      "outputs": []
    },
    {
      "cell_type": "code",
      "execution_count": null,
      "metadata": {
        "colab": {
          "base_uri": "https://localhost:8080/"
        },
        "id": "2pyftNQ98Rpp",
        "outputId": "a724a138-5348-4c98-fdea-bf3935301708"
      },
      "outputs": [
        {
          "output_type": "execute_result",
          "data": {
            "text/plain": [
              "[844000.0,\n",
              " 758000.0,\n",
              " 421000.0,\n",
              " 259000.0,\n",
              " 511000.0,\n",
              " 405000.0,\n",
              " 784000.0,\n",
              " 303000.0,\n",
              " 477000.0,\n",
              " 583000.0,\n",
              " 908000.0,\n",
              " 505000.0,\n",
              " 282000.0,\n",
              " 756000.0,\n",
              " 618000.0,\n",
              " 251000.0,\n",
              " 910000.0,\n",
              " 983000.0,\n",
              " 810000.0,\n",
              " 902000.0,\n",
              " 310000.0,\n",
              " 730000.0,\n",
              " 899000.0,\n",
              " 684000.0,\n",
              " 472000.0,\n",
              " 101000.0,\n",
              " 434000.0,\n",
              " 611000.0,\n",
              " 913000.0,\n",
              " 967000.0,\n",
              " 477000.0,\n",
              " 865000.0,\n",
              " 260000.0,\n",
              " 805000.0,\n",
              " 549000.0,\n",
              " 14000.0,\n",
              " 720000.0,\n",
              " 399000.0,\n",
              " 825000.0,\n",
              " 668000.0,\n",
              " 1000.0,\n",
              " 494000.0,\n",
              " 868000.0,\n",
              " 244000.0,\n",
              " 325000.0,\n",
              " 870000.0,\n",
              " 191000.0,\n",
              " 568000.0,\n",
              " 239000.0,\n",
              " 968000.0,\n",
              " 803000.0,\n",
              " 448000.0,\n",
              " 80000.0,\n",
              " 320000.0,\n",
              " 508000.0,\n",
              " 933000.0,\n",
              " 109000.0,\n",
              " 551000.0,\n",
              " 707000.0,\n",
              " 547000.0,\n",
              " 814000.0,\n",
              " 540000.0,\n",
              " 964000.0,\n",
              " 603000.0,\n",
              " 588000.0,\n",
              " 445000.0,\n",
              " 596000.0,\n",
              " 385000.0,\n",
              " 576000.0,\n",
              " 290000.0,\n",
              " 189000.0,\n",
              " 187000.0,\n",
              " 613000.0,\n",
              " 657000.0,\n",
              " 477000.0,\n",
              " 90000.0,\n",
              " 758000.0,\n",
              " 877000.0,\n",
              " 923000.0,\n",
              " 842000.0,\n",
              " 898000.0,\n",
              " 923000.0,\n",
              " 541000.0,\n",
              " 391000.0,\n",
              " 705000.0,\n",
              " 276000.0,\n",
              " 812000.0,\n",
              " 849000.0,\n",
              " 895000.0,\n",
              " 590000.0,\n",
              " 950000.0,\n",
              " 580000.0,\n",
              " 451000.0,\n",
              " 660000.0,\n",
              " 996000.0,\n",
              " 917000.0,\n",
              " 793000.0,\n",
              " 82000.0,\n",
              " 613000.0,\n",
              " 486000.0]"
            ]
          },
          "metadata": {},
          "execution_count": 2
        }
      ],
      "source": [
        "salaries"
      ]
    },
    {
      "cell_type": "code",
      "source": [
        "from statistics import mean\n",
        "from statistics import median\n",
        "from statistics import mode\n",
        "from statistics import variance\n",
        "from statistics import stdev\n",
        "from math import isnan\n",
        "from itertools import filterfalse"
      ],
      "metadata": {
        "id": "QX5aJB6C9bvd"
      },
      "execution_count": null,
      "outputs": []
    },
    {
      "cell_type": "code",
      "source": [
        "sorted(salaries)  # This has surprising behavior"
      ],
      "metadata": {
        "colab": {
          "base_uri": "https://localhost:8080/"
        },
        "id": "aLwOJd5A-nmc",
        "outputId": "3ca75117-405c-45c9-f91a-daeb9cd9c491"
      },
      "execution_count": null,
      "outputs": [
        {
          "output_type": "execute_result",
          "data": {
            "text/plain": [
              "[1000.0,\n",
              " 14000.0,\n",
              " 80000.0,\n",
              " 82000.0,\n",
              " 90000.0,\n",
              " 101000.0,\n",
              " 109000.0,\n",
              " 187000.0,\n",
              " 189000.0,\n",
              " 191000.0,\n",
              " 239000.0,\n",
              " 244000.0,\n",
              " 251000.0,\n",
              " 259000.0,\n",
              " 260000.0,\n",
              " 276000.0,\n",
              " 282000.0,\n",
              " 290000.0,\n",
              " 303000.0,\n",
              " 310000.0,\n",
              " 320000.0,\n",
              " 325000.0,\n",
              " 385000.0,\n",
              " 391000.0,\n",
              " 399000.0,\n",
              " 405000.0,\n",
              " 421000.0,\n",
              " 434000.0,\n",
              " 445000.0,\n",
              " 448000.0,\n",
              " 451000.0,\n",
              " 472000.0,\n",
              " 477000.0,\n",
              " 477000.0,\n",
              " 477000.0,\n",
              " 486000.0,\n",
              " 494000.0,\n",
              " 505000.0,\n",
              " 508000.0,\n",
              " 511000.0,\n",
              " 540000.0,\n",
              " 541000.0,\n",
              " 547000.0,\n",
              " 549000.0,\n",
              " 551000.0,\n",
              " 568000.0,\n",
              " 576000.0,\n",
              " 580000.0,\n",
              " 583000.0,\n",
              " 588000.0,\n",
              " 590000.0,\n",
              " 596000.0,\n",
              " 603000.0,\n",
              " 611000.0,\n",
              " 613000.0,\n",
              " 613000.0,\n",
              " 618000.0,\n",
              " 657000.0,\n",
              " 660000.0,\n",
              " 668000.0,\n",
              " 684000.0,\n",
              " 705000.0,\n",
              " 707000.0,\n",
              " 720000.0,\n",
              " 730000.0,\n",
              " 756000.0,\n",
              " 758000.0,\n",
              " 758000.0,\n",
              " 784000.0,\n",
              " 793000.0,\n",
              " 803000.0,\n",
              " 805000.0,\n",
              " 810000.0,\n",
              " 812000.0,\n",
              " 814000.0,\n",
              " 825000.0,\n",
              " 842000.0,\n",
              " 844000.0,\n",
              " 849000.0,\n",
              " 865000.0,\n",
              " 868000.0,\n",
              " 870000.0,\n",
              " 877000.0,\n",
              " 895000.0,\n",
              " 898000.0,\n",
              " 899000.0,\n",
              " 902000.0,\n",
              " 908000.0,\n",
              " 910000.0,\n",
              " 913000.0,\n",
              " 917000.0,\n",
              " 923000.0,\n",
              " 923000.0,\n",
              " 933000.0,\n",
              " 950000.0,\n",
              " 964000.0,\n",
              " 967000.0,\n",
              " 968000.0,\n",
              " 983000.0,\n",
              " 996000.0]"
            ]
          },
          "metadata": {},
          "execution_count": 25
        }
      ]
    },
    {
      "cell_type": "code",
      "source": [
        "mean(salaries)  # This result is unexpected"
      ],
      "metadata": {
        "colab": {
          "base_uri": "https://localhost:8080/"
        },
        "id": "FwyFf0z2-P0n",
        "outputId": "0578382f-39b8-48d0-ea8e-2d0997fe35a0"
      },
      "execution_count": null,
      "outputs": [
        {
          "output_type": "execute_result",
          "data": {
            "text/plain": [
              "585690.0"
            ]
          },
          "metadata": {},
          "execution_count": 23
        }
      ]
    },
    {
      "cell_type": "code",
      "source": [
        "median(salaries)  # This result is unexpected"
      ],
      "metadata": {
        "colab": {
          "base_uri": "https://localhost:8080/"
        },
        "id": "GI2_gh13-Rhx",
        "outputId": "bd81bc8e-51e1-48a5-b009-b9c6000f1df6"
      },
      "execution_count": null,
      "outputs": [
        {
          "output_type": "execute_result",
          "data": {
            "text/plain": [
              "589000.0"
            ]
          },
          "metadata": {},
          "execution_count": 22
        }
      ]
    },
    {
      "cell_type": "code",
      "source": [
        "mode(salaries)  # This result is unexpected"
      ],
      "metadata": {
        "colab": {
          "base_uri": "https://localhost:8080/"
        },
        "id": "llcYbW5o-V3d",
        "outputId": "7fe93aed-d550-4cbd-96ff-eb89fb6b465e"
      },
      "execution_count": null,
      "outputs": [
        {
          "output_type": "execute_result",
          "data": {
            "text/plain": [
              "477000.0"
            ]
          },
          "metadata": {},
          "execution_count": 21
        }
      ]
    },
    {
      "cell_type": "code",
      "source": [
        "variance(salaries)  # This result is unexpected"
      ],
      "metadata": {
        "colab": {
          "base_uri": "https://localhost:8080/"
        },
        "id": "84TYdNdN-ZLZ",
        "outputId": "430d4c61-e6b9-4149-9f6b-78ffd809d68c"
      },
      "execution_count": null,
      "outputs": [
        {
          "output_type": "execute_result",
          "data": {
            "text/plain": [
              "70664054444.44444"
            ]
          },
          "metadata": {},
          "execution_count": 20
        }
      ]
    },
    {
      "cell_type": "code",
      "source": [
        "stdev(salaries)  # This result is unexpected"
      ],
      "metadata": {
        "colab": {
          "base_uri": "https://localhost:8080/"
        },
        "id": "hUA3-Oyw-dNY",
        "outputId": "fec2d418-c241-4342-f76d-69a2bbaf6bba"
      },
      "execution_count": null,
      "outputs": [
        {
          "output_type": "execute_result",
          "data": {
            "text/plain": [
              "265827.11382484"
            ]
          },
          "metadata": {},
          "execution_count": 18
        }
      ]
    },
    {
      "cell_type": "markdown",
      "source": [
        "# **Excercise 2**"
      ],
      "metadata": {
        "id": "CKeph_Vf-xLT"
      }
    },
    {
      "cell_type": "code",
      "source": [
        "# Range\n",
        "range = max(salaries) - min(salaries)\n",
        "\n",
        "# Quartile coefficient of dispersion\n",
        "mean_sal = sum(salaries) / len(salaries)\n",
        "cv = stdev(salaries) / mean_sal * 100\n",
        "\n",
        "# Coefficient of variation Interquartile range\n",
        "def Quart(data):\n",
        "    sorted_data = sorted(data)\n",
        "    n = len(sorted_data)\n",
        "    mid = n // 2\n",
        "    if n % 2 == 0:\n",
        "        lower_half = sorted_data[:mid]\n",
        "        upper_half = sorted_data[mid:]\n",
        "    else:\n",
        "        lower_half = sorted_data[:mid]\n",
        "        upper_half = sorted_data[mid+1:]\n",
        "\n",
        "    lower_q = median(lower_half)\n",
        "    upper_q = median(upper_half)\n",
        "    return lower_q, upper_q\n",
        "\n",
        "lower_quartile, upper_quartile = Quart(salaries)\n",
        "iqr = upper_quartile - lower_quartile\n",
        "\n",
        "# Quartile coefficient of dispersion\n",
        "qcd = iqr / (upper_quartile + lower_quartile) * 100\n",
        "\n",
        "# Output the results\n",
        "print(\"Range: \", range)\n",
        "print(\"Coefficient of Variation: \", cv)\n",
        "print(\"Interquartile Range: \", iqr)\n",
        "print(\"Quartile Coefficient of Dispersion: \", qcd)\n"
      ],
      "metadata": {
        "colab": {
          "base_uri": "https://localhost:8080/"
        },
        "id": "GFFAHUir-zoy",
        "outputId": "012c10ce-c165-4c31-e767-302691b8e85d"
      },
      "execution_count": null,
      "outputs": [
        {
          "output_type": "stream",
          "name": "stdout",
          "text": [
            "Range:  995000.0\n",
            "Coefficient of Variation:  45.38699889443903\n",
            "Interquartile Range:  417500.0\n",
            "Quartile Coefficient of Dispersion:  34.17928776094965\n"
          ]
        }
      ]
    },
    {
      "cell_type": "markdown",
      "source": [
        "# **Excercise 3**"
      ],
      "metadata": {
        "id": "oa5o2oCZAgbx"
      }
    },
    {
      "cell_type": "code",
      "source": [
        "file_path = \"/content/diabetes.csv\""
      ],
      "metadata": {
        "id": "eAMAhBFwAjeI"
      },
      "execution_count": null,
      "outputs": []
    },
    {
      "cell_type": "code",
      "source": [
        "import numpy as np\n",
        "import pandas as pd"
      ],
      "metadata": {
        "id": "lLcCeuo7ArjX"
      },
      "execution_count": null,
      "outputs": []
    },
    {
      "cell_type": "code",
      "source": [
        "data = pd.read_csv(file_path)"
      ],
      "metadata": {
        "id": "qwHoDY_dAt4g"
      },
      "execution_count": null,
      "outputs": []
    },
    {
      "cell_type": "code",
      "source": [
        "data"
      ],
      "metadata": {
        "colab": {
          "base_uri": "https://localhost:8080/",
          "height": 424
        },
        "id": "8q9gloYZAv-X",
        "outputId": "fc89eb13-7fdb-453b-ecea-128b61d3cc3b"
      },
      "execution_count": null,
      "outputs": [
        {
          "output_type": "execute_result",
          "data": {
            "text/plain": [
              "     Pregnancies  Glucose  BloodPressure  SkinThickness  Insulin   BMI  \\\n",
              "0              6      148             72             35        0  33.6   \n",
              "1              1       85             66             29        0  26.6   \n",
              "2              8      183             64              0        0  23.3   \n",
              "3              1       89             66             23       94  28.1   \n",
              "4              0      137             40             35      168  43.1   \n",
              "..           ...      ...            ...            ...      ...   ...   \n",
              "763           10      101             76             48      180  32.9   \n",
              "764            2      122             70             27        0  36.8   \n",
              "765            5      121             72             23      112  26.2   \n",
              "766            1      126             60              0        0  30.1   \n",
              "767            1       93             70             31        0  30.4   \n",
              "\n",
              "     DiabetesPedigreeFunction  Age  Outcome  \n",
              "0                       0.627   50        1  \n",
              "1                       0.351   31        0  \n",
              "2                       0.672   32        1  \n",
              "3                       0.167   21        0  \n",
              "4                       2.288   33        1  \n",
              "..                        ...  ...      ...  \n",
              "763                     0.171   63        0  \n",
              "764                     0.340   27        0  \n",
              "765                     0.245   30        0  \n",
              "766                     0.349   47        1  \n",
              "767                     0.315   23        0  \n",
              "\n",
              "[768 rows x 9 columns]"
            ],
            "text/html": [
              "\n",
              "  <div id=\"df-1e67b26f-c602-43aa-8fa6-9b8518eb9a34\" class=\"colab-df-container\">\n",
              "    <div>\n",
              "<style scoped>\n",
              "    .dataframe tbody tr th:only-of-type {\n",
              "        vertical-align: middle;\n",
              "    }\n",
              "\n",
              "    .dataframe tbody tr th {\n",
              "        vertical-align: top;\n",
              "    }\n",
              "\n",
              "    .dataframe thead th {\n",
              "        text-align: right;\n",
              "    }\n",
              "</style>\n",
              "<table border=\"1\" class=\"dataframe\">\n",
              "  <thead>\n",
              "    <tr style=\"text-align: right;\">\n",
              "      <th></th>\n",
              "      <th>Pregnancies</th>\n",
              "      <th>Glucose</th>\n",
              "      <th>BloodPressure</th>\n",
              "      <th>SkinThickness</th>\n",
              "      <th>Insulin</th>\n",
              "      <th>BMI</th>\n",
              "      <th>DiabetesPedigreeFunction</th>\n",
              "      <th>Age</th>\n",
              "      <th>Outcome</th>\n",
              "    </tr>\n",
              "  </thead>\n",
              "  <tbody>\n",
              "    <tr>\n",
              "      <th>0</th>\n",
              "      <td>6</td>\n",
              "      <td>148</td>\n",
              "      <td>72</td>\n",
              "      <td>35</td>\n",
              "      <td>0</td>\n",
              "      <td>33.6</td>\n",
              "      <td>0.627</td>\n",
              "      <td>50</td>\n",
              "      <td>1</td>\n",
              "    </tr>\n",
              "    <tr>\n",
              "      <th>1</th>\n",
              "      <td>1</td>\n",
              "      <td>85</td>\n",
              "      <td>66</td>\n",
              "      <td>29</td>\n",
              "      <td>0</td>\n",
              "      <td>26.6</td>\n",
              "      <td>0.351</td>\n",
              "      <td>31</td>\n",
              "      <td>0</td>\n",
              "    </tr>\n",
              "    <tr>\n",
              "      <th>2</th>\n",
              "      <td>8</td>\n",
              "      <td>183</td>\n",
              "      <td>64</td>\n",
              "      <td>0</td>\n",
              "      <td>0</td>\n",
              "      <td>23.3</td>\n",
              "      <td>0.672</td>\n",
              "      <td>32</td>\n",
              "      <td>1</td>\n",
              "    </tr>\n",
              "    <tr>\n",
              "      <th>3</th>\n",
              "      <td>1</td>\n",
              "      <td>89</td>\n",
              "      <td>66</td>\n",
              "      <td>23</td>\n",
              "      <td>94</td>\n",
              "      <td>28.1</td>\n",
              "      <td>0.167</td>\n",
              "      <td>21</td>\n",
              "      <td>0</td>\n",
              "    </tr>\n",
              "    <tr>\n",
              "      <th>4</th>\n",
              "      <td>0</td>\n",
              "      <td>137</td>\n",
              "      <td>40</td>\n",
              "      <td>35</td>\n",
              "      <td>168</td>\n",
              "      <td>43.1</td>\n",
              "      <td>2.288</td>\n",
              "      <td>33</td>\n",
              "      <td>1</td>\n",
              "    </tr>\n",
              "    <tr>\n",
              "      <th>...</th>\n",
              "      <td>...</td>\n",
              "      <td>...</td>\n",
              "      <td>...</td>\n",
              "      <td>...</td>\n",
              "      <td>...</td>\n",
              "      <td>...</td>\n",
              "      <td>...</td>\n",
              "      <td>...</td>\n",
              "      <td>...</td>\n",
              "    </tr>\n",
              "    <tr>\n",
              "      <th>763</th>\n",
              "      <td>10</td>\n",
              "      <td>101</td>\n",
              "      <td>76</td>\n",
              "      <td>48</td>\n",
              "      <td>180</td>\n",
              "      <td>32.9</td>\n",
              "      <td>0.171</td>\n",
              "      <td>63</td>\n",
              "      <td>0</td>\n",
              "    </tr>\n",
              "    <tr>\n",
              "      <th>764</th>\n",
              "      <td>2</td>\n",
              "      <td>122</td>\n",
              "      <td>70</td>\n",
              "      <td>27</td>\n",
              "      <td>0</td>\n",
              "      <td>36.8</td>\n",
              "      <td>0.340</td>\n",
              "      <td>27</td>\n",
              "      <td>0</td>\n",
              "    </tr>\n",
              "    <tr>\n",
              "      <th>765</th>\n",
              "      <td>5</td>\n",
              "      <td>121</td>\n",
              "      <td>72</td>\n",
              "      <td>23</td>\n",
              "      <td>112</td>\n",
              "      <td>26.2</td>\n",
              "      <td>0.245</td>\n",
              "      <td>30</td>\n",
              "      <td>0</td>\n",
              "    </tr>\n",
              "    <tr>\n",
              "      <th>766</th>\n",
              "      <td>1</td>\n",
              "      <td>126</td>\n",
              "      <td>60</td>\n",
              "      <td>0</td>\n",
              "      <td>0</td>\n",
              "      <td>30.1</td>\n",
              "      <td>0.349</td>\n",
              "      <td>47</td>\n",
              "      <td>1</td>\n",
              "    </tr>\n",
              "    <tr>\n",
              "      <th>767</th>\n",
              "      <td>1</td>\n",
              "      <td>93</td>\n",
              "      <td>70</td>\n",
              "      <td>31</td>\n",
              "      <td>0</td>\n",
              "      <td>30.4</td>\n",
              "      <td>0.315</td>\n",
              "      <td>23</td>\n",
              "      <td>0</td>\n",
              "    </tr>\n",
              "  </tbody>\n",
              "</table>\n",
              "<p>768 rows × 9 columns</p>\n",
              "</div>\n",
              "    <div class=\"colab-df-buttons\">\n",
              "\n",
              "  <div class=\"colab-df-container\">\n",
              "    <button class=\"colab-df-convert\" onclick=\"convertToInteractive('df-1e67b26f-c602-43aa-8fa6-9b8518eb9a34')\"\n",
              "            title=\"Convert this dataframe to an interactive table.\"\n",
              "            style=\"display:none;\">\n",
              "\n",
              "  <svg xmlns=\"http://www.w3.org/2000/svg\" height=\"24px\" viewBox=\"0 -960 960 960\">\n",
              "    <path d=\"M120-120v-720h720v720H120Zm60-500h600v-160H180v160Zm220 220h160v-160H400v160Zm0 220h160v-160H400v160ZM180-400h160v-160H180v160Zm440 0h160v-160H620v160ZM180-180h160v-160H180v160Zm440 0h160v-160H620v160Z\"/>\n",
              "  </svg>\n",
              "    </button>\n",
              "\n",
              "  <style>\n",
              "    .colab-df-container {\n",
              "      display:flex;\n",
              "      gap: 12px;\n",
              "    }\n",
              "\n",
              "    .colab-df-convert {\n",
              "      background-color: #E8F0FE;\n",
              "      border: none;\n",
              "      border-radius: 50%;\n",
              "      cursor: pointer;\n",
              "      display: none;\n",
              "      fill: #1967D2;\n",
              "      height: 32px;\n",
              "      padding: 0 0 0 0;\n",
              "      width: 32px;\n",
              "    }\n",
              "\n",
              "    .colab-df-convert:hover {\n",
              "      background-color: #E2EBFA;\n",
              "      box-shadow: 0px 1px 2px rgba(60, 64, 67, 0.3), 0px 1px 3px 1px rgba(60, 64, 67, 0.15);\n",
              "      fill: #174EA6;\n",
              "    }\n",
              "\n",
              "    .colab-df-buttons div {\n",
              "      margin-bottom: 4px;\n",
              "    }\n",
              "\n",
              "    [theme=dark] .colab-df-convert {\n",
              "      background-color: #3B4455;\n",
              "      fill: #D2E3FC;\n",
              "    }\n",
              "\n",
              "    [theme=dark] .colab-df-convert:hover {\n",
              "      background-color: #434B5C;\n",
              "      box-shadow: 0px 1px 3px 1px rgba(0, 0, 0, 0.15);\n",
              "      filter: drop-shadow(0px 1px 2px rgba(0, 0, 0, 0.3));\n",
              "      fill: #FFFFFF;\n",
              "    }\n",
              "  </style>\n",
              "\n",
              "    <script>\n",
              "      const buttonEl =\n",
              "        document.querySelector('#df-1e67b26f-c602-43aa-8fa6-9b8518eb9a34 button.colab-df-convert');\n",
              "      buttonEl.style.display =\n",
              "        google.colab.kernel.accessAllowed ? 'block' : 'none';\n",
              "\n",
              "      async function convertToInteractive(key) {\n",
              "        const element = document.querySelector('#df-1e67b26f-c602-43aa-8fa6-9b8518eb9a34');\n",
              "        const dataTable =\n",
              "          await google.colab.kernel.invokeFunction('convertToInteractive',\n",
              "                                                    [key], {});\n",
              "        if (!dataTable) return;\n",
              "\n",
              "        const docLinkHtml = 'Like what you see? Visit the ' +\n",
              "          '<a target=\"_blank\" href=https://colab.research.google.com/notebooks/data_table.ipynb>data table notebook</a>'\n",
              "          + ' to learn more about interactive tables.';\n",
              "        element.innerHTML = '';\n",
              "        dataTable['output_type'] = 'display_data';\n",
              "        await google.colab.output.renderOutput(dataTable, element);\n",
              "        const docLink = document.createElement('div');\n",
              "        docLink.innerHTML = docLinkHtml;\n",
              "        element.appendChild(docLink);\n",
              "      }\n",
              "    </script>\n",
              "  </div>\n",
              "\n",
              "\n",
              "<div id=\"df-cb467adb-88d4-4e45-885a-547aa3cb5088\">\n",
              "  <button class=\"colab-df-quickchart\" onclick=\"quickchart('df-cb467adb-88d4-4e45-885a-547aa3cb5088')\"\n",
              "            title=\"Suggest charts\"\n",
              "            style=\"display:none;\">\n",
              "\n",
              "<svg xmlns=\"http://www.w3.org/2000/svg\" height=\"24px\"viewBox=\"0 0 24 24\"\n",
              "     width=\"24px\">\n",
              "    <g>\n",
              "        <path d=\"M19 3H5c-1.1 0-2 .9-2 2v14c0 1.1.9 2 2 2h14c1.1 0 2-.9 2-2V5c0-1.1-.9-2-2-2zM9 17H7v-7h2v7zm4 0h-2V7h2v10zm4 0h-2v-4h2v4z\"/>\n",
              "    </g>\n",
              "</svg>\n",
              "  </button>\n",
              "\n",
              "<style>\n",
              "  .colab-df-quickchart {\n",
              "      --bg-color: #E8F0FE;\n",
              "      --fill-color: #1967D2;\n",
              "      --hover-bg-color: #E2EBFA;\n",
              "      --hover-fill-color: #174EA6;\n",
              "      --disabled-fill-color: #AAA;\n",
              "      --disabled-bg-color: #DDD;\n",
              "  }\n",
              "\n",
              "  [theme=dark] .colab-df-quickchart {\n",
              "      --bg-color: #3B4455;\n",
              "      --fill-color: #D2E3FC;\n",
              "      --hover-bg-color: #434B5C;\n",
              "      --hover-fill-color: #FFFFFF;\n",
              "      --disabled-bg-color: #3B4455;\n",
              "      --disabled-fill-color: #666;\n",
              "  }\n",
              "\n",
              "  .colab-df-quickchart {\n",
              "    background-color: var(--bg-color);\n",
              "    border: none;\n",
              "    border-radius: 50%;\n",
              "    cursor: pointer;\n",
              "    display: none;\n",
              "    fill: var(--fill-color);\n",
              "    height: 32px;\n",
              "    padding: 0;\n",
              "    width: 32px;\n",
              "  }\n",
              "\n",
              "  .colab-df-quickchart:hover {\n",
              "    background-color: var(--hover-bg-color);\n",
              "    box-shadow: 0 1px 2px rgba(60, 64, 67, 0.3), 0 1px 3px 1px rgba(60, 64, 67, 0.15);\n",
              "    fill: var(--button-hover-fill-color);\n",
              "  }\n",
              "\n",
              "  .colab-df-quickchart-complete:disabled,\n",
              "  .colab-df-quickchart-complete:disabled:hover {\n",
              "    background-color: var(--disabled-bg-color);\n",
              "    fill: var(--disabled-fill-color);\n",
              "    box-shadow: none;\n",
              "  }\n",
              "\n",
              "  .colab-df-spinner {\n",
              "    border: 2px solid var(--fill-color);\n",
              "    border-color: transparent;\n",
              "    border-bottom-color: var(--fill-color);\n",
              "    animation:\n",
              "      spin 1s steps(1) infinite;\n",
              "  }\n",
              "\n",
              "  @keyframes spin {\n",
              "    0% {\n",
              "      border-color: transparent;\n",
              "      border-bottom-color: var(--fill-color);\n",
              "      border-left-color: var(--fill-color);\n",
              "    }\n",
              "    20% {\n",
              "      border-color: transparent;\n",
              "      border-left-color: var(--fill-color);\n",
              "      border-top-color: var(--fill-color);\n",
              "    }\n",
              "    30% {\n",
              "      border-color: transparent;\n",
              "      border-left-color: var(--fill-color);\n",
              "      border-top-color: var(--fill-color);\n",
              "      border-right-color: var(--fill-color);\n",
              "    }\n",
              "    40% {\n",
              "      border-color: transparent;\n",
              "      border-right-color: var(--fill-color);\n",
              "      border-top-color: var(--fill-color);\n",
              "    }\n",
              "    60% {\n",
              "      border-color: transparent;\n",
              "      border-right-color: var(--fill-color);\n",
              "    }\n",
              "    80% {\n",
              "      border-color: transparent;\n",
              "      border-right-color: var(--fill-color);\n",
              "      border-bottom-color: var(--fill-color);\n",
              "    }\n",
              "    90% {\n",
              "      border-color: transparent;\n",
              "      border-bottom-color: var(--fill-color);\n",
              "    }\n",
              "  }\n",
              "</style>\n",
              "\n",
              "  <script>\n",
              "    async function quickchart(key) {\n",
              "      const quickchartButtonEl =\n",
              "        document.querySelector('#' + key + ' button');\n",
              "      quickchartButtonEl.disabled = true;  // To prevent multiple clicks.\n",
              "      quickchartButtonEl.classList.add('colab-df-spinner');\n",
              "      try {\n",
              "        const charts = await google.colab.kernel.invokeFunction(\n",
              "            'suggestCharts', [key], {});\n",
              "      } catch (error) {\n",
              "        console.error('Error during call to suggestCharts:', error);\n",
              "      }\n",
              "      quickchartButtonEl.classList.remove('colab-df-spinner');\n",
              "      quickchartButtonEl.classList.add('colab-df-quickchart-complete');\n",
              "    }\n",
              "    (() => {\n",
              "      let quickchartButtonEl =\n",
              "        document.querySelector('#df-cb467adb-88d4-4e45-885a-547aa3cb5088 button');\n",
              "      quickchartButtonEl.style.display =\n",
              "        google.colab.kernel.accessAllowed ? 'block' : 'none';\n",
              "    })();\n",
              "  </script>\n",
              "</div>\n",
              "    </div>\n",
              "  </div>\n"
            ],
            "application/vnd.google.colaboratory.intrinsic+json": {
              "type": "dataframe",
              "variable_name": "data",
              "summary": "{\n  \"name\": \"data\",\n  \"rows\": 768,\n  \"fields\": [\n    {\n      \"column\": \"Pregnancies\",\n      \"properties\": {\n        \"dtype\": \"number\",\n        \"std\": 3,\n        \"min\": 0,\n        \"max\": 17,\n        \"num_unique_values\": 17,\n        \"samples\": [\n          6,\n          1,\n          3\n        ],\n        \"semantic_type\": \"\",\n        \"description\": \"\"\n      }\n    },\n    {\n      \"column\": \"Glucose\",\n      \"properties\": {\n        \"dtype\": \"number\",\n        \"std\": 31,\n        \"min\": 0,\n        \"max\": 199,\n        \"num_unique_values\": 136,\n        \"samples\": [\n          151,\n          101,\n          112\n        ],\n        \"semantic_type\": \"\",\n        \"description\": \"\"\n      }\n    },\n    {\n      \"column\": \"BloodPressure\",\n      \"properties\": {\n        \"dtype\": \"number\",\n        \"std\": 19,\n        \"min\": 0,\n        \"max\": 122,\n        \"num_unique_values\": 47,\n        \"samples\": [\n          86,\n          46,\n          85\n        ],\n        \"semantic_type\": \"\",\n        \"description\": \"\"\n      }\n    },\n    {\n      \"column\": \"SkinThickness\",\n      \"properties\": {\n        \"dtype\": \"number\",\n        \"std\": 15,\n        \"min\": 0,\n        \"max\": 99,\n        \"num_unique_values\": 51,\n        \"samples\": [\n          7,\n          12,\n          48\n        ],\n        \"semantic_type\": \"\",\n        \"description\": \"\"\n      }\n    },\n    {\n      \"column\": \"Insulin\",\n      \"properties\": {\n        \"dtype\": \"number\",\n        \"std\": 115,\n        \"min\": 0,\n        \"max\": 846,\n        \"num_unique_values\": 186,\n        \"samples\": [\n          52,\n          41,\n          183\n        ],\n        \"semantic_type\": \"\",\n        \"description\": \"\"\n      }\n    },\n    {\n      \"column\": \"BMI\",\n      \"properties\": {\n        \"dtype\": \"number\",\n        \"std\": 7.884160320375446,\n        \"min\": 0.0,\n        \"max\": 67.1,\n        \"num_unique_values\": 248,\n        \"samples\": [\n          19.9,\n          31.0,\n          38.1\n        ],\n        \"semantic_type\": \"\",\n        \"description\": \"\"\n      }\n    },\n    {\n      \"column\": \"DiabetesPedigreeFunction\",\n      \"properties\": {\n        \"dtype\": \"number\",\n        \"std\": 0.3313285950127749,\n        \"min\": 0.078,\n        \"max\": 2.42,\n        \"num_unique_values\": 517,\n        \"samples\": [\n          1.731,\n          0.426,\n          0.138\n        ],\n        \"semantic_type\": \"\",\n        \"description\": \"\"\n      }\n    },\n    {\n      \"column\": \"Age\",\n      \"properties\": {\n        \"dtype\": \"number\",\n        \"std\": 11,\n        \"min\": 21,\n        \"max\": 81,\n        \"num_unique_values\": 52,\n        \"samples\": [\n          60,\n          47,\n          72\n        ],\n        \"semantic_type\": \"\",\n        \"description\": \"\"\n      }\n    },\n    {\n      \"column\": \"Outcome\",\n      \"properties\": {\n        \"dtype\": \"number\",\n        \"std\": 0,\n        \"min\": 0,\n        \"max\": 1,\n        \"num_unique_values\": 2,\n        \"samples\": [\n          0,\n          1\n        ],\n        \"semantic_type\": \"\",\n        \"description\": \"\"\n      }\n    }\n  ]\n}"
            }
          },
          "metadata": {},
          "execution_count": 35
        }
      ]
    },
    {
      "cell_type": "markdown",
      "source": [
        "**1. Identify the column names**"
      ],
      "metadata": {
        "id": "6DQ_rA80Bigj"
      }
    },
    {
      "cell_type": "code",
      "source": [
        "column_names = data.columns\n",
        "print(\"Column Names:\", column_names)"
      ],
      "metadata": {
        "colab": {
          "base_uri": "https://localhost:8080/"
        },
        "id": "bSNvQTOqBWm4",
        "outputId": "1a0d3ff3-a541-4e23-e84f-208546272e1a"
      },
      "execution_count": null,
      "outputs": [
        {
          "output_type": "stream",
          "name": "stdout",
          "text": [
            "Column Names: Index(['Pregnancies', 'Glucose', 'BloodPressure', 'SkinThickness', 'Insulin',\n",
            "       'BMI', 'DiabetesPedigreeFunction', 'Age', 'Diagnosis',\n",
            "       'Classification'],\n",
            "      dtype='object')\n"
          ]
        }
      ]
    },
    {
      "cell_type": "markdown",
      "source": [
        "**2. Identify the data types of the data**"
      ],
      "metadata": {
        "id": "QxxJq4scBwxk"
      }
    },
    {
      "cell_type": "code",
      "source": [
        "data_types = data.dtypes\n",
        "print(\"\\nData Types:\\n\", data_types)"
      ],
      "metadata": {
        "colab": {
          "base_uri": "https://localhost:8080/"
        },
        "id": "p10nMti3BvvK",
        "outputId": "22071c29-a760-442b-e389-57397cd4fec3"
      },
      "execution_count": null,
      "outputs": [
        {
          "output_type": "stream",
          "name": "stdout",
          "text": [
            "\n",
            "Data Types:\n",
            " Pregnancies                   int64\n",
            "Glucose                       int64\n",
            "BloodPressure                 int64\n",
            "SkinThickness                 int64\n",
            "Insulin                       int64\n",
            "BMI                         float64\n",
            "DiabetesPedigreeFunction    float64\n",
            "Age                           int64\n",
            "Diagnosis                     int64\n",
            "Classification               object\n",
            "dtype: object\n"
          ]
        }
      ]
    },
    {
      "cell_type": "markdown",
      "source": [
        "**3. Display the total number of records**"
      ],
      "metadata": {
        "id": "n4rnF7fKB2JM"
      }
    },
    {
      "cell_type": "code",
      "source": [
        "total_records = len(data)\n",
        "print(\"\\nTotal Number of Records:\", total_records)"
      ],
      "metadata": {
        "colab": {
          "base_uri": "https://localhost:8080/"
        },
        "id": "IXFHYJ7LBrP2",
        "outputId": "c9553c22-4c63-46b4-9ec3-24527d86a984"
      },
      "execution_count": null,
      "outputs": [
        {
          "output_type": "stream",
          "name": "stdout",
          "text": [
            "\n",
            "Total Number of Records: 768\n"
          ]
        }
      ]
    },
    {
      "cell_type": "markdown",
      "source": [
        "**4. Display the first 20 records**"
      ],
      "metadata": {
        "id": "Lej4ywiqB9Ov"
      }
    },
    {
      "cell_type": "code",
      "source": [
        "print(\"\\nFirst 20 Records:\")\n",
        "print(data.head(20))"
      ],
      "metadata": {
        "colab": {
          "base_uri": "https://localhost:8080/"
        },
        "id": "McLLK-CUBseE",
        "outputId": "1ec2e742-99cb-401d-a602-3c3e5c92e404"
      },
      "execution_count": null,
      "outputs": [
        {
          "output_type": "stream",
          "name": "stdout",
          "text": [
            "\n",
            "First 20 Records:\n",
            "    Pregnancies  Glucose  BloodPressure  SkinThickness  Insulin   BMI  \\\n",
            "0             6      148             72             35        0  33.6   \n",
            "1             1       85             66             29        0  26.6   \n",
            "2             8      183             64              0        0  23.3   \n",
            "3             1       89             66             23       94  28.1   \n",
            "4             0      137             40             35      168  43.1   \n",
            "5             5      116             74              0        0  25.6   \n",
            "6             3       78             50             32       88  31.0   \n",
            "7            10      115              0              0        0  35.3   \n",
            "8             2      197             70             45      543  30.5   \n",
            "9             8      125             96              0        0   0.0   \n",
            "10            4      110             92              0        0  37.6   \n",
            "11           10      168             74              0        0  38.0   \n",
            "12           10      139             80              0        0  27.1   \n",
            "13            1      189             60             23      846  30.1   \n",
            "14            5      166             72             19      175  25.8   \n",
            "15            7      100              0              0        0  30.0   \n",
            "16            0      118             84             47      230  45.8   \n",
            "17            7      107             74              0        0  29.6   \n",
            "18            1      103             30             38       83  43.3   \n",
            "19            1      115             70             30       96  34.6   \n",
            "\n",
            "    DiabetesPedigreeFunction  Age  Diagnosis Classification  \n",
            "0                      0.627   50          1       Diabetes  \n",
            "1                      0.351   31          0    No Diabetes  \n",
            "2                      0.672   32          1       Diabetes  \n",
            "3                      0.167   21          0    No Diabetes  \n",
            "4                      2.288   33          1       Diabetes  \n",
            "5                      0.201   30          0    No Diabetes  \n",
            "6                      0.248   26          1       Diabetes  \n",
            "7                      0.134   29          0    No Diabetes  \n",
            "8                      0.158   53          1       Diabetes  \n",
            "9                      0.232   54          1       Diabetes  \n",
            "10                     0.191   30          0    No Diabetes  \n",
            "11                     0.537   34          1       Diabetes  \n",
            "12                     1.441   57          0    No Diabetes  \n",
            "13                     0.398   59          1       Diabetes  \n",
            "14                     0.587   51          1       Diabetes  \n",
            "15                     0.484   32          1       Diabetes  \n",
            "16                     0.551   31          1       Diabetes  \n",
            "17                     0.254   31          1       Diabetes  \n",
            "18                     0.183   33          0    No Diabetes  \n",
            "19                     0.529   32          1       Diabetes  \n"
          ]
        }
      ]
    },
    {
      "cell_type": "markdown",
      "source": [
        "**5. Display the last 20 records**"
      ],
      "metadata": {
        "id": "_uFnvzqCCJL-"
      }
    },
    {
      "cell_type": "code",
      "source": [
        "print(\"\\nLast 20 Records:\")\n",
        "print(data.tail(20))"
      ],
      "metadata": {
        "colab": {
          "base_uri": "https://localhost:8080/"
        },
        "id": "1jfD4jehBt62",
        "outputId": "53f40f73-e269-457c-cafe-c8c0f8141674"
      },
      "execution_count": null,
      "outputs": [
        {
          "output_type": "stream",
          "name": "stdout",
          "text": [
            "\n",
            "Last 20 Records:\n",
            "     Pregnancies  Glucose  BloodPressure  SkinThickness  Insulin   BMI  \\\n",
            "748            3      187             70             22      200  36.4   \n",
            "749            6      162             62              0        0  24.3   \n",
            "750            4      136             70              0        0  31.2   \n",
            "751            1      121             78             39       74  39.0   \n",
            "752            3      108             62             24        0  26.0   \n",
            "753            0      181             88             44      510  43.3   \n",
            "754            8      154             78             32        0  32.4   \n",
            "755            1      128             88             39      110  36.5   \n",
            "756            7      137             90             41        0  32.0   \n",
            "757            0      123             72              0        0  36.3   \n",
            "758            1      106             76              0        0  37.5   \n",
            "759            6      190             92              0        0  35.5   \n",
            "760            2       88             58             26       16  28.4   \n",
            "761            9      170             74             31        0  44.0   \n",
            "762            9       89             62              0        0  22.5   \n",
            "763           10      101             76             48      180  32.9   \n",
            "764            2      122             70             27        0  36.8   \n",
            "765            5      121             72             23      112  26.2   \n",
            "766            1      126             60              0        0  30.1   \n",
            "767            1       93             70             31        0  30.4   \n",
            "\n",
            "     DiabetesPedigreeFunction  Age  Diagnosis Classification  \n",
            "748                     0.408   36          1       Diabetes  \n",
            "749                     0.178   50          1       Diabetes  \n",
            "750                     1.182   22          1       Diabetes  \n",
            "751                     0.261   28          0    No Diabetes  \n",
            "752                     0.223   25          0    No Diabetes  \n",
            "753                     0.222   26          1       Diabetes  \n",
            "754                     0.443   45          1       Diabetes  \n",
            "755                     1.057   37          1       Diabetes  \n",
            "756                     0.391   39          0    No Diabetes  \n",
            "757                     0.258   52          1       Diabetes  \n",
            "758                     0.197   26          0    No Diabetes  \n",
            "759                     0.278   66          1       Diabetes  \n",
            "760                     0.766   22          0    No Diabetes  \n",
            "761                     0.403   43          1       Diabetes  \n",
            "762                     0.142   33          0    No Diabetes  \n",
            "763                     0.171   63          0    No Diabetes  \n",
            "764                     0.340   27          0    No Diabetes  \n",
            "765                     0.245   30          0    No Diabetes  \n",
            "766                     0.349   47          1       Diabetes  \n",
            "767                     0.315   23          0    No Diabetes  \n"
          ]
        }
      ]
    },
    {
      "cell_type": "markdown",
      "source": [
        "**6. Change the Outcome column to Diagnosis**"
      ],
      "metadata": {
        "id": "RSSYV3nYCJr9"
      }
    },
    {
      "cell_type": "code",
      "source": [
        "data.rename(columns={'Outcome': 'Diagnosis'}, inplace=True)"
      ],
      "metadata": {
        "id": "z70T83psBuBg"
      },
      "execution_count": null,
      "outputs": []
    },
    {
      "cell_type": "markdown",
      "source": [
        "**7. Create a new column Classification**"
      ],
      "metadata": {
        "id": "QgxrcNekCVV2"
      }
    },
    {
      "cell_type": "code",
      "source": [
        "data['Classification'] = np.where(data['Diagnosis'] == 1, 'Diabetes', 'No Diabetes')"
      ],
      "metadata": {
        "id": "S3PcILFtCSx7"
      },
      "execution_count": null,
      "outputs": []
    },
    {
      "cell_type": "markdown",
      "source": [
        "**8. Create a new dataframe \"withDiabetes\"**"
      ],
      "metadata": {
        "id": "Z-7fzwkACVzg"
      }
    },
    {
      "cell_type": "code",
      "source": [
        "with_diabetes = data[data['Diagnosis'] == 1]"
      ],
      "metadata": {
        "id": "HXZ3M-raCT6n"
      },
      "execution_count": null,
      "outputs": []
    },
    {
      "cell_type": "markdown",
      "source": [
        "**9. Create a new dataframe \"noDiabetes\"**"
      ],
      "metadata": {
        "id": "4sY5M8a6ClyZ"
      }
    },
    {
      "cell_type": "code",
      "source": [
        "no_diabetes = data[data['Diagnosis'] == 0]"
      ],
      "metadata": {
        "id": "eAF3XIDOCT-F"
      },
      "execution_count": null,
      "outputs": []
    },
    {
      "cell_type": "markdown",
      "source": [
        "**10. Create a new dataframe \"Pedia\"**"
      ],
      "metadata": {
        "id": "TINUMAF7CqYn"
      }
    },
    {
      "cell_type": "code",
      "source": [
        "pedia = data[data['Age'] <= 19]"
      ],
      "metadata": {
        "id": "EMOXSUK2CU4m"
      },
      "execution_count": null,
      "outputs": []
    },
    {
      "cell_type": "markdown",
      "source": [
        "**11. Create a new dataframe \"Adult\"**"
      ],
      "metadata": {
        "id": "9xZmdWbtCykC"
      }
    },
    {
      "cell_type": "code",
      "source": [
        "adult = data[data['Age'] > 19]"
      ],
      "metadata": {
        "id": "n9iYKFhUCxnh"
      },
      "execution_count": null,
      "outputs": []
    },
    {
      "cell_type": "markdown",
      "source": [
        "**12. Use numpy to get the average age and glucose value.**"
      ],
      "metadata": {
        "id": "4rfbt5vZCzBM"
      }
    },
    {
      "cell_type": "code",
      "source": [
        "average_age = np.mean(data['Age'])\n",
        "average_glucose = np.mean(data['Glucose'])\n",
        "print(\"\\nAverage Age:\", average_age)\n",
        "print(\"Average Glucose Value:\", average_glucose)"
      ],
      "metadata": {
        "colab": {
          "base_uri": "https://localhost:8080/"
        },
        "id": "f_ruQErTCxxp",
        "outputId": "d78be0e1-a9ab-41b3-90ce-8c75e07f2abd"
      },
      "execution_count": null,
      "outputs": [
        {
          "output_type": "stream",
          "name": "stdout",
          "text": [
            "\n",
            "Average Age: 33.240885416666664\n",
            "Average Glucose Value: 120.89453125\n"
          ]
        }
      ]
    },
    {
      "cell_type": "markdown",
      "source": [
        "**13. Use numpy to get the median age and glucose value.**"
      ],
      "metadata": {
        "id": "GrNrLhS1Czhn"
      }
    },
    {
      "cell_type": "code",
      "source": [
        "median_age = np.median(data['Age'])\n",
        "median_glucose = np.median(data['Glucose'])\n",
        "print(\"\\nMedian Age:\", median_age)\n",
        "print(\"Median Glucose Value:\", median_glucose)"
      ],
      "metadata": {
        "colab": {
          "base_uri": "https://localhost:8080/"
        },
        "id": "UdNRU4DCCx66",
        "outputId": "93243bba-3c22-4c67-b362-63a5db096cb6"
      },
      "execution_count": null,
      "outputs": [
        {
          "output_type": "stream",
          "name": "stdout",
          "text": [
            "\n",
            "Median Age: 29.0\n",
            "Median Glucose Value: 117.0\n"
          ]
        }
      ]
    },
    {
      "cell_type": "markdown",
      "source": [
        "**14. Use numpy to get the middle values of glucose and age.**"
      ],
      "metadata": {
        "id": "6xOCtPh7C7bf"
      }
    },
    {
      "cell_type": "code",
      "source": [
        "middle_glucose = np.median(np.sort(data['Glucose']))\n",
        "middle_age = np.median(np.sort(data['Age']))\n",
        "print(\"\\nMiddle Glucose Value:\", middle_glucose)\n",
        "print(\"Middle Age:\", middle_age)"
      ],
      "metadata": {
        "colab": {
          "base_uri": "https://localhost:8080/"
        },
        "id": "hH3naMCHCyDX",
        "outputId": "806e6c78-a5d1-49a1-94ad-fe475297ba06"
      },
      "execution_count": null,
      "outputs": [
        {
          "output_type": "stream",
          "name": "stdout",
          "text": [
            "\n",
            "Middle Glucose Value: 117.0\n",
            "Middle Age: 29.0\n"
          ]
        }
      ]
    },
    {
      "cell_type": "markdown",
      "source": [
        "**15. Use numpy to get the standard deviation of the skinthickness**"
      ],
      "metadata": {
        "id": "A6vC6WpgC73v"
      }
    },
    {
      "cell_type": "code",
      "source": [
        "std_skinthickness = np.std(data['SkinThickness'])\n",
        "print(\"\\nStandard Deviation of Skin Thickness:\", std_skinthickness)"
      ],
      "metadata": {
        "colab": {
          "base_uri": "https://localhost:8080/"
        },
        "id": "5_wy3-K7CyKS",
        "outputId": "2152090f-4ff0-4506-b701-32fdafa7dfc3"
      },
      "execution_count": null,
      "outputs": [
        {
          "output_type": "stream",
          "name": "stdout",
          "text": [
            "\n",
            "Standard Deviation of Skin Thickness: 15.941828626496939\n"
          ]
        }
      ]
    },
    {
      "cell_type": "markdown",
      "source": [
        "# **Conclusion**"
      ],
      "metadata": {
        "id": "cb0NXqy9DLdZ"
      }
    },
    {
      "cell_type": "markdown",
      "source": [
        "The tasks carried out using the diabetes dataset that was provided demonstrated a comprehensive approach of data exploration, modification, and analysis. We were able to learn more about the structure and content of the dataset by identifying the column names, data kinds, and summarizing it. We made it easier for additional analysis by changing the data, renaming columns, and adding new variables depending on age groups and diagnoses. Key summary statistics were computed by using NumPy's statistical functions, which provided information on variability and core patterns. All things considered, these exercises gave us a strong basis for comprehending the features of the dataset, possible relationships, and consequences for diabetes studies and health consequences."
      ],
      "metadata": {
        "id": "LpBC6hC8DNQy"
      }
    }
  ]
}