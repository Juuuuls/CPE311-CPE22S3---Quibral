{
  "nbformat": 4,
  "nbformat_minor": 0,
  "metadata": {
    "colab": {
      "provenance": []
    },
    "kernelspec": {
      "name": "python3",
      "display_name": "Python 3"
    },
    "language_info": {
      "name": "python"
    }
  },
  "cells": [
    {
      "cell_type": "markdown",
      "source": [
        "**Assignment 3.1 Practice Problem 1 (Build a Graph)**\n",
        "\n",
        "**Problem**\n",
        "\n",
        "You are given an integer n. Determine if there is an unconnected graph with n vertices that contains at least two connected components and contains the number of edges that is equal to the number of vertices. Each vertex must follow one of these conditions:\n",
        "\n",
        "\n",
        "*   Its degree is less than or equal to 1.\n",
        "*   It's a cut-vertexLinks to an external site..\n",
        "\n",
        "It's a cut-vertexLinks to an external site...\n",
        "\n",
        "**Note**\n",
        "The graph must be simple.\n",
        "Loops and multiple edges are not allowed.\n",
        "\n",
        "**Input format:**\n",
        "First line: n\n",
        "\n",
        "\n",
        "**Output format**\n",
        "\n",
        "Print Yes if it is an unconnected graph. Otherwise, print No.\n",
        "\n",
        "**Constraints**\n",
        "\n",
        "1 <= n <= 100\n"
      ],
      "metadata": {
        "id": "H4dBFI9UV9-8"
      }
    },
    {
      "cell_type": "code",
      "execution_count": null,
      "metadata": {
        "colab": {
          "base_uri": "https://localhost:8080/"
        },
        "id": "vyRkM8FhCM4Q",
        "outputId": "26dfe502-7cd8-4bbc-997b-47c117b5dbbc"
      },
      "outputs": [
        {
          "output_type": "stream",
          "name": "stdout",
          "text": [
            "Enter number of vertices: 6\n",
            "Enter Vertex 1: 1\n",
            "Enter the neighbors of vertex 1: 2\n",
            "Enter Vertex 2: 2\n",
            "Enter the neighbors of vertex 2: 1\n",
            "Enter Vertex 3: 3\n",
            "Enter the neighbors of vertex 3: 4\n",
            "Enter Vertex 4: 4\n",
            "Enter the neighbors of vertex 4: 3\n",
            "Enter Vertex 5: 5\n",
            "Enter the neighbors of vertex 5: 6\n",
            "Enter Vertex 6: 6\n",
            "Enter the neighbors of vertex 6: 5\n",
            "Yes\n",
            "\n"
          ]
        }
      ],
      "source": [
        "### graph checker ###\n",
        "class Graph:\n",
        "    def __init__(self, grp):\n",
        "        self.grp = grp\n",
        "\n",
        "    def is_unc(self): # if graph is unconnected\n",
        "        visited = set() #tracks visited vertices\n",
        "        components = 0 #counter fo graph nodes\n",
        "\n",
        "        def dfs(vx): #Depth first search\n",
        "            visited.add(vx) #visited nodes marker\n",
        "            for ni in self.grp[vx]: # iterates through neighbors of the current node\n",
        "              if ni not in visited: # explores  unvisisted nodes\n",
        "                  dfs(ni)\n",
        "\n",
        "        for vx in self.grp: # iterates through all the nodes/vertices in the graph\n",
        "          if vx not in visited: # explores unvisisted nodes/ apply dfs upon it\n",
        "            dfs(vx)\n",
        "            components += 1 # increment component counter when exploration is done\n",
        "\n",
        "        return components > 1 # if there components > 1 then it is not connected\n",
        "### graph checker ###\n",
        "\n",
        "\n",
        "### graph builder ###\n",
        "def create_gdict():\n",
        "  n = int(input(\"Enter number of vertices: \"))\n",
        "  if n >= 100:\n",
        "      print(\"Vertices over 100 is not allowed!\")\n",
        "  else:\n",
        "    gdict = {} # dictionary initiation\n",
        "\n",
        "    for i in range (1, n + 1): #iteration fo the vertices input\n",
        "      vertex = input(f\"Enter Vertex {i}: \")\n",
        "      neighbors = input(f\"Enter the neighbors of vertex {i}: \").split()\n",
        "      gdict[vertex] = set(neighbors)\n",
        "\n",
        "    return gdict #returns the graph dictionary\n",
        "\n",
        "gdict = create_gdict() #This would create the graph dictionary\n",
        "### graph builder ###\n",
        "\n",
        "### class implementation ###\n",
        "gp = Graph(gdict) # converts the user input dictionary into a graph object\n",
        "\n",
        "if gp.is_unc():\n",
        "  print(\"Yes\\n\") #if graph is not connected\n",
        "else:\n",
        "  print(\"No\\n\") #if graph is connected"
      ]
    },
    {
      "cell_type": "code",
      "source": [
        "### graph checker ###\n",
        "class Graph:\n",
        "    def __init__(self, grp):\n",
        "        self.grp = grp\n",
        "\n",
        "    def is_unc(self): # if graph is unconnected\n",
        "        visited = set() #tracks visited vertices\n",
        "        components = 0 #counter fo graph nodes\n",
        "\n",
        "        def dfs(vx): #Depth first search\n",
        "            visited.add(vx) #visited nodes marker\n",
        "            for ni in self.grp[vx]: # iterates through neighbors of the current node\n",
        "              if ni not in visited: # explores  unvisisted nodes\n",
        "                  dfs(ni)\n",
        "\n",
        "        for vx in self.grp: # iterates through all the nodes/vertices in the graph\n",
        "          if vx not in visited: # explores unvisisted nodes/ apply dfs upon it\n",
        "            dfs(vx)\n",
        "            components += 1 # increment component counter when exploration is done\n",
        "\n",
        "        return components > 1 # if there components > 1 then it is not connected\n",
        "### graph checker ###\n",
        "\n",
        "\n",
        "### graph builder ###\n",
        "def create_gdict():\n",
        "  n = int(input(\"Enter number of vertices: \"))\n",
        "  if n >= 100:\n",
        "      print(\"Vertices over 100 is not allowed!\")\n",
        "  else:\n",
        "    gdict = {} # dictionary initiation\n",
        "\n",
        "    for i in range (1, n + 1): #iteration fo the vertices input\n",
        "      vertex = input(f\"Enter Vertex {i}: \")\n",
        "      neighbors = input(f\"Enter the neighbors of vertex {i}: \").split() # note seperate the vertices via spaces!!!\n",
        "      gdict[vertex] = set(neighbors)\n",
        "\n",
        "    return gdict #returns the graph dictionary\n",
        "\n",
        "gdict = create_gdict() #This would create the graph dictionary\n",
        "### graph builder ###\n",
        "\n",
        "### class implementation ###\n",
        "gp = Graph(gdict) # converts the user input dictionary into a graph object\n",
        "\n",
        "if gp.is_unc():\n",
        "  print(\"Yes\\n\") #if graph is not connected\n",
        "else:\n",
        "  print(\"No\\n\") #if graph is connected"
      ],
      "metadata": {
        "colab": {
          "base_uri": "https://localhost:8080/"
        },
        "id": "2MREdUAnKX8-",
        "outputId": "66c0a52d-22bb-4e30-f549-7ae938a53e29"
      },
      "execution_count": null,
      "outputs": [
        {
          "output_type": "stream",
          "name": "stdout",
          "text": [
            "Enter number of vertices: 6\n",
            "Enter Vertex 1: 1\n",
            "Enter the neighbors of vertex 1: 2 3 4\n",
            "Enter Vertex 2: 2\n",
            "Enter the neighbors of vertex 2: 1 3 5\n",
            "Enter Vertex 3: 3\n",
            "Enter the neighbors of vertex 3: 1 2 6\n",
            "Enter Vertex 4: 4\n",
            "Enter the neighbors of vertex 4: 1\n",
            "Enter Vertex 5: 5\n",
            "Enter the neighbors of vertex 5: 2\n",
            "Enter Vertex 6: 6\n",
            "Enter the neighbors of vertex 6: 3\n",
            "No\n",
            "\n"
          ]
        }
      ]
    }
  ]
}